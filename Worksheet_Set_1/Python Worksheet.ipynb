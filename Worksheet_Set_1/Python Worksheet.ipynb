{
 "cells": [
  {
   "cell_type": "code",
   "execution_count": null,
   "id": "cf4beb49",
   "metadata": {},
   "outputs": [],
   "source": [
    "PYTHON – WORKSHEET 1\n",
    "\n",
    "Q1 to Q8 have only one correct answer. Choose the correct option to answer your question.\n",
    "\n",
    "1. Which of the following operators is used to calculate remainder in a division?\n",
    "A) # B) &\n",
    "C) % D) $\n",
    "Ans-C\n",
    "\n",
    "2. In python 2//3 is equal to?\n",
    "A) 0.666 B) 0\n",
    "C) 1 D) 0.67\n",
    "\n",
    "Ans-A\n",
    "\n",
    "3. In python, 6<<2 is equal to?\n",
    "A) 36 B) 10\n",
    "C) 24 D) 45\n",
    "\n",
    "Ans-C\n",
    "\n",
    "4. In python, 6&2 will give which of the following as output?\n",
    "A) 2 B) True\n",
    "C) False D) 0\n",
    "\n",
    "Ans-A\n",
    "\n",
    "5. In python, 6|2 will give which of the following as output?\n",
    "A) 2 B) 4\n",
    "C) 0 D) 6\n",
    "\n",
    "Ans-D\n",
    "\n",
    "6. What does the finally keyword denotes in python?\n",
    "A) It is used to mark the end of the code\n",
    "B) It encloses the lines of code which will be executed if any error occurs while executing the lines of code in \n",
    "the try block.\n",
    "C) the finally block will be executed no matter if the try block raises an error or not.\n",
    "D) None of the above\n",
    "\n",
    "Ans-C\n",
    "\n",
    "7. What does raise keyword is used for in python?\n",
    "A) It is used to raise an exception. B) It is used to define lambda function\n",
    "C) it's not a keyword in python. D) None of the above\n",
    "\n",
    "Ans-A\n",
    "\n",
    "8. Which of the following is a common use case of yield keyword in python?\n",
    "A) in defining an iterator B) while defining a lambda function\n",
    "C) in defining a generator D) in for loop.\n",
    "\n",
    "Ans-C\n",
    "\n",
    "Q9 and Q10 have multiple correct answers. Choose all the correct options to answer your question.\n",
    "\n",
    "\n",
    "9. Which of the following are the valid variable names?\n",
    "A) _abc B) 1abc\n",
    "C) abc2 D) None of the above\n",
    "\n",
    "Ans-B & C\n",
    "\n",
    "10. Which of the following are the keywords in python?\n",
    "A) yield B) raise\n",
    "C) look-in D) all of the above\n",
    "\n",
    "Ans-A & B\n",
    "\n"
   ]
  },
  {
   "cell_type": "code",
   "execution_count": 1,
   "id": "4d916a6e",
   "metadata": {},
   "outputs": [
    {
     "name": "stdout",
     "output_type": "stream",
     "text": [
      "Enter a number: 4\n",
      "The factorial of 4 is 1\n",
      "The factorial of 4 is 2\n",
      "The factorial of 4 is 6\n",
      "The factorial of 4 is 24\n"
     ]
    }
   ],
   "source": [
    "# 11)\tWrite a python program to find the factorial of a number.\n",
    "\n",
    "# Take input from the user\n",
    "num = int(input(\"Enter a number: \"))\n",
    "\n",
    "factorial = 1\n",
    "\n",
    "# Check if the number is positive, negative or zero\n",
    "if num < 0:\n",
    "    print(\"Sorry, factorial does not exist for negative numbers\")\n",
    "elif num == 0:\n",
    "    print(\"The factorial of 0 is 1\")\n",
    "else:\n",
    "    \n",
    "# Loop to find the factorial of number\n",
    "    for i in range(1,num + 1):\n",
    "        factorial = factorial*i\n",
    "        print(\"The factorial of\",num,\"is\",factorial)"
   ]
  },
  {
   "cell_type": "code",
   "execution_count": 2,
   "id": "f9fa4b46",
   "metadata": {},
   "outputs": [
    {
     "name": "stdout",
     "output_type": "stream",
     "text": [
      "Enter any number:6\n",
      "6 is not PRIME but COMPOSITE NUMBER\n"
     ]
    }
   ],
   "source": [
    "# 12)\tWrite a python program to find whether a number is prime or composite.\n",
    "\n",
    "n= int(input(\"Enter any number:\"))\n",
    "if(n ==0 or n == 1):\n",
    "    printf(n,\"Number is neither PRIME nor COMPOSITE NUMBER\")\n",
    "elif n>1 :\n",
    "    for i in range(2,n):\n",
    "        if(n%i == 0):\n",
    "            print(n,\"is not PRIME but COMPOSITE NUMBER\")\n",
    "            break\n",
    "    else:\n",
    "        print(n,\"Number is PRIME but not COMPOSITE NUMBER\")\n",
    "else :\n",
    "    print(\"Please enter Positive number only \")"
   ]
  },
  {
   "cell_type": "code",
   "execution_count": 3,
   "id": "a0fffda4",
   "metadata": {},
   "outputs": [
    {
     "name": "stdout",
     "output_type": "stream",
     "text": [
      "Please enter your own Text : Hello\n",
      "Reverse Order :   olleH\n",
      "This is Not\n"
     ]
    }
   ],
   "source": [
    "# 13)\tWrite a python program to check whether a given string is palindrome or not.\n",
    "\n",
    "string = input(\"Please enter your own Text : \")\n",
    "str1 = \"\"\n",
    "\n",
    "for i in string:\n",
    "    str1 = i + str1  \n",
    "print(\"Reverse Order :  \", str1)\n",
    "\n",
    "if(string == str1):\n",
    "   print(\"This is a Palindrome String\")\n",
    "else:\n",
    "   print(\"This is Not\")"
   ]
  },
  {
   "cell_type": "code",
   "execution_count": 5,
   "id": "13159fd8",
   "metadata": {},
   "outputs": [],
   "source": [
    "# 14)\tWrite a python program to get the third side of right-angled triangle from two given sides.\n",
    "\n",
    "# Declare a function to find the missing angle.\n",
    "def pythagoras(opposite_side,adjacent_side,hypotenuse):\n",
    "        if opposite_side == str(\"x\"):\n",
    "            return (\"Opposite = \" + str(((hypotenuse**2) - (adjacent_side**2))**0.5))\n",
    "        elif adjacent_side == str(\"x\"):\n",
    "            return (\"Adjacent = \" + str(((hypotenuse**2) - (opposite_side**2))**0.5))\n",
    "        elif hypotenuse == str(\"x\"):\n",
    "            return (\"Hypotenuse = \" + str(((opposite_side**2) + (adjacent_side**2))**0.5))\n",
    "        else:\n",
    "            return \"Answer got it!\""
   ]
  },
  {
   "cell_type": "code",
   "execution_count": 6,
   "id": "62a2cf36",
   "metadata": {},
   "outputs": [
    {
     "name": "stdout",
     "output_type": "stream",
     "text": [
      "Hypotenuse = 5.0\n",
      "Adjacent = 4.0\n",
      "Opposite = 3.0\n",
      "Answer got it!\n"
     ]
    }
   ],
   "source": [
    "# Call the function inside the print method    \n",
    "print(pythagoras(3,4,'x'))\n",
    "print(pythagoras(3,'x',5))\n",
    "print(pythagoras('x',4,5))\n",
    "print(pythagoras(3,4,5))"
   ]
  },
  {
   "cell_type": "code",
   "execution_count": 7,
   "id": "43a99d8f",
   "metadata": {},
   "outputs": [
    {
     "name": "stdout",
     "output_type": "stream",
     "text": [
      "Enter the string: Nasim\n",
      "Please enter the char to find frequency of the character\n",
      "Wasim\n",
      "The frequency of the  Wasim in the string is:  0\n"
     ]
    }
   ],
   "source": [
    "# 15)\tWrite a python program to print the frequency of each of the characters present in a given string.\n",
    "\n",
    "string=input(\"Enter the string: \")\n",
    "char=input(\"Please enter the char to find frequency of the character\\n\")\n",
    "count=0\n",
    "for i in range(len(string)):\n",
    "    if(string[i]==char):\n",
    "        count=count+1\n",
    "print(\"The frequency of the \",char,\"in the string is: \",count)"
   ]
  },
  {
   "cell_type": "code",
   "execution_count": null,
   "id": "ed5372ab",
   "metadata": {},
   "outputs": [],
   "source": []
  }
 ],
 "metadata": {
  "kernelspec": {
   "display_name": "Python 3 (ipykernel)",
   "language": "python",
   "name": "python3"
  },
  "language_info": {
   "codemirror_mode": {
    "name": "ipython",
    "version": 3
   },
   "file_extension": ".py",
   "mimetype": "text/x-python",
   "name": "python",
   "nbconvert_exporter": "python",
   "pygments_lexer": "ipython3",
   "version": "3.9.7"
  }
 },
 "nbformat": 4,
 "nbformat_minor": 5
}
